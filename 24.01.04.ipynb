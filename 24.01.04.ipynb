{
  "nbformat": 4,
  "nbformat_minor": 0,
  "metadata": {
    "colab": {
      "provenance": [],
      "authorship_tag": "ABX9TyOasnq37J3sLL7n5uB9LbEn",
      "include_colab_link": true
    },
    "kernelspec": {
      "name": "python3",
      "display_name": "Python 3"
    },
    "language_info": {
      "name": "python"
    }
  },
  "cells": [
    {
      "cell_type": "markdown",
      "metadata": {
        "id": "view-in-github",
        "colab_type": "text"
      },
      "source": [
        "<a href=\"https://colab.research.google.com/github/Psycod01/aipython/blob/main/24.01.04.ipynb\" target=\"_parent\"><img src=\"https://colab.research.google.com/assets/colab-badge.svg\" alt=\"Open In Colab\"/></a>"
      ]
    },
    {
      "cell_type": "code",
      "execution_count": 15,
      "metadata": {
        "colab": {
          "base_uri": "https://localhost:8080/",
          "height": 147
        },
        "id": "ymV8b8iQGG-7",
        "outputId": "144f080c-c09f-4f06-83a6-8b72ea08334d"
      },
      "outputs": [
        {
          "output_type": "error",
          "ename": "IndentationError",
          "evalue": "ignored",
          "traceback": [
            "\u001b[0;36m  File \u001b[0;32m\"<ipython-input-15-b25ab24ba9f0>\"\u001b[0;36m, line \u001b[0;32m4\u001b[0m\n\u001b[0;31m    score.append(int(input('학생의 점수를 입력하세요')))\u001b[0m\n\u001b[0m    ^\u001b[0m\n\u001b[0;31mIndentationError\u001b[0m\u001b[0;31m:\u001b[0m unexpected indent\n"
          ]
        }
      ],
      "source": [
        "score = []\n",
        "\n",
        "doscore.append(int(input('학생의 점수를 입력하세요')))\n",
        "\n",
        "while True:\n",
        "  score.append(int(input('학생의 점수를 입력하세요')))\n",
        "\n",
        "print('입력 데이터 출력 : ', score)\n",
        "print('합계 : ' , sum(score))\n",
        "print('인원 수 : ', len(score))\n",
        "print('평균 : ', round(sum(score)/len(score), 3))\n"
      ]
    },
    {
      "cell_type": "code",
      "source": [
        "#교수님이 말씀해주신 교재 자료\n",
        "# if 입력.isdigit()\n",
        "score = []\n",
        "\n",
        "while True:\n",
        "  a = (input('학생의 점수를 입력하세요.'))\n",
        "  if a.isdigit() == True :\n",
        "    score.append(int(a))\n",
        "  else :\n",
        "    break\n",
        "\n",
        "print('입력 데이터 출력 : ', score)\n",
        "print('합계 : ' , sum(score))\n",
        "print('인원 수 : ', len(score))\n",
        "print('평균 : ', round(sum(score)/len(score), 3))"
      ],
      "metadata": {
        "colab": {
          "base_uri": "https://localhost:8080/"
        },
        "id": "Ub3Yi9tXdm2J",
        "outputId": "7610e3e3-a69f-4452-cac1-bb9babec8fed"
      },
      "execution_count": 19,
      "outputs": [
        {
          "output_type": "stream",
          "name": "stdout",
          "text": [
            "학생의 점수를 입력하세요.870\n",
            "학생의 점수를 입력하세요.45\n",
            "학생의 점수를 입력하세요.79\n",
            "학생의 점수를 입력하세요.15\n",
            "학생의 점수를 입력하세요.a\n",
            "입력 데이터 출력 :  [870, 45, 79, 15]\n",
            "합계 :  1009\n",
            "인원 수 :  4\n",
            "평균 :  252.25\n"
          ]
        }
      ]
    },
    {
      "cell_type": "code",
      "source": [],
      "metadata": {
        "id": "G8utGr2ygbhw"
      },
      "execution_count": null,
      "outputs": []
    }
  ]
}