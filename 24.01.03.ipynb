{
  "nbformat": 4,
  "nbformat_minor": 0,
  "metadata": {
    "colab": {
      "provenance": [],
      "authorship_tag": "ABX9TyMZ3QOSlNCwGeIPmQTfDJxT",
      "include_colab_link": true
    },
    "kernelspec": {
      "name": "python3",
      "display_name": "Python 3"
    },
    "language_info": {
      "name": "python"
    }
  },
  "cells": [
    {
      "cell_type": "markdown",
      "metadata": {
        "id": "view-in-github",
        "colab_type": "text"
      },
      "source": [
        "<a href=\"https://colab.research.google.com/github/Psycod01/aipython/blob/main/24.01.03.ipynb\" target=\"_parent\"><img src=\"https://colab.research.google.com/assets/colab-badge.svg\" alt=\"Open In Colab\"/></a>"
      ]
    },
    {
      "cell_type": "code",
      "execution_count": null,
      "metadata": {
        "id": "d_7cNcit78DZ"
      },
      "outputs": [],
      "source": [
        "HIGH_SCORE = 95\n",
        "\n",
        "def main():\n",
        "  test1 = int(input('Enter the score for test 1: '))\n",
        "  test2 = int(input('Enter the score for test 2: '))\n",
        "  test3 = int(input('Enter the score for test 3: '))\n",
        "\n",
        "  average = (test1 + test2 + test3) / 3\n",
        "  print('The average score is', average)\n",
        "\n",
        "  if average >= HIGH-SCORE\n",
        "    print'Congratulations!')\n",
        "    print'That is great average!')"
      ]
    },
    {
      "cell_type": "code",
      "source": [
        "BASE_HOURS = 40 # Base hours per week\n",
        "OT_MULTIPLIER = 1.5 # Overtime multiplier\n",
        "def main(): # 근무시간과 시간당 급여를 입력받아 각 변수에 할당한다.\n",
        "  hours_worked = float(input('Enter the number of hours worked: '))\n",
        "  pay_rate = float(input('Enter the hourly pay rate: '))\n",
        "\n",
        "  if hours_worked > BASE_HOURS:\n",
        "    calc_pay_with_OT(hours_worked, pay_rate)\n",
        "  else:\n",
        "    calc_regular_pay(hours_worked, pay_rate)\n",
        "\n",
        "\n",
        "def calc_pay_with_OT(hours, rate): # 초과 근무시간을 계산한다.\n",
        "  overtime_hours = hours - BASE_HOURS\n",
        "  overtime_pay = overtime_hours * rate * OT_MULTIPLIER\n",
        "  gross_pay = BASE_HOURS * rate + overtime_pay\n",
        "\n",
        "  print('The gross pay is $', format(gross_pay, ',.2f'), sep='')\n",
        "\n",
        "\n",
        "def calc_regular_pay(hours, rate): # 총 급여를 계산한다.\n",
        "  gross_pay = hours * rate\n",
        " # 총 급여를 출력한다.\n",
        "  print('The gross pay is $', format(gross_pay, ',.2f'), sep='')\n",
        "\n",
        "main()\n"
      ],
      "metadata": {
        "colab": {
          "base_uri": "https://localhost:8080/"
        },
        "id": "VJMAcWGpTb33",
        "outputId": "37917580-5ecb-4b36-e343-9663497d7355"
      },
      "execution_count": 5,
      "outputs": [
        {
          "output_type": "stream",
          "name": "stdout",
          "text": [
            "Enter the number of hours worked: 50\n",
            "Enter the hourly pay rate: 20\n",
            "The gross pay is $1,100.00\n"
          ]
        }
      ]
    },
    {
      "cell_type": "code",
      "source": [
        "#5-15\n",
        "rows = int(input('How many rows? '))\n",
        "cols = int(input('How many columns? '))\n",
        "\n",
        "for i in range(rows) :\n",
        "  for i in range(cols):\n",
        "    print('*',end='')\n",
        "  print()"
      ],
      "metadata": {
        "colab": {
          "base_uri": "https://localhost:8080/"
        },
        "id": "amaVj4IOTvQP",
        "outputId": "357a4d18-015f-4645-fae9-b4265c0c33d2"
      },
      "execution_count": 8,
      "outputs": [
        {
          "output_type": "stream",
          "name": "stdout",
          "text": [
            "How many rows? 5\n",
            "How many columns? 20\n",
            "********************\n",
            "********************\n",
            "********************\n",
            "********************\n",
            "********************\n"
          ]
        }
      ]
    },
    {
      "cell_type": "code",
      "source": [
        "#역삼각형으로 * 찍기\n",
        "BASE_SIZE = 8\n",
        "a = BASE_SIZE\n",
        "for r in range(a,0,-1):\n",
        "  for i in range(r):\n",
        "    print('*', end='')\n",
        "  print()"
      ],
      "metadata": {
        "colab": {
          "base_uri": "https://localhost:8080/"
        },
        "id": "9W9_aN3fWE1m",
        "outputId": "bf200766-d60d-4afd-8696-866ed09145dd"
      },
      "execution_count": 28,
      "outputs": [
        {
          "output_type": "stream",
          "name": "stdout",
          "text": [
            "********\n",
            "*******\n",
            "******\n",
            "*****\n",
            "****\n",
            "***\n",
            "**\n",
            "*\n"
          ]
        }
      ]
    },
    {
      "cell_type": "code",
      "source": [
        "BASE_SIZE = 8\n",
        "for r in range(BASE_SIZE):\n",
        "  for c in range(BASE_SIZE-r):\n",
        "    print('*', end='')\n",
        "  print()\n"
      ],
      "metadata": {
        "colab": {
          "base_uri": "https://localhost:8080/"
        },
        "id": "vR-I0Pf4Wka1",
        "outputId": "2ee7d608-abae-4716-83dd-d17d0092e492"
      },
      "execution_count": 29,
      "outputs": [
        {
          "output_type": "stream",
          "name": "stdout",
          "text": [
            "********\n",
            "*******\n",
            "******\n",
            "*****\n",
            "****\n",
            "***\n",
            "**\n",
            "*\n"
          ]
        }
      ]
    },
    {
      "cell_type": "code",
      "source": [
        "  for i in range(8,0,-1):\n",
        "    print(i)"
      ],
      "metadata": {
        "colab": {
          "base_uri": "https://localhost:8080/"
        },
        "id": "l96OgTp1YCxe",
        "outputId": "63cc7e3f-58bc-451d-f187-70e5fd370a61"
      },
      "execution_count": 20,
      "outputs": [
        {
          "output_type": "stream",
          "name": "stdout",
          "text": [
            "8\n",
            "7\n",
            "6\n",
            "5\n",
            "4\n",
            "3\n",
            "2\n",
            "1\n"
          ]
        }
      ]
    },
    {
      "cell_type": "code",
      "source": [],
      "metadata": {
        "id": "wBPO2LIyYMi9"
      },
      "execution_count": null,
      "outputs": []
    }
  ]
}