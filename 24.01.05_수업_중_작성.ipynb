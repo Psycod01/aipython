{
  "nbformat": 4,
  "nbformat_minor": 0,
  "metadata": {
    "colab": {
      "provenance": [],
      "authorship_tag": "ABX9TyMUJZzmZEOlMKSXmh0VVi3C",
      "include_colab_link": true
    },
    "kernelspec": {
      "name": "python3",
      "display_name": "Python 3"
    },
    "language_info": {
      "name": "python"
    }
  },
  "cells": [
    {
      "cell_type": "markdown",
      "metadata": {
        "id": "view-in-github",
        "colab_type": "text"
      },
      "source": [
        "<a href=\"https://colab.research.google.com/github/Psycod01/aipython/blob/main/24.01.05_%EC%88%98%EC%97%85_%EC%A4%91_%EC%9E%91%EC%84%B1.ipynb\" target=\"_parent\"><img src=\"https://colab.research.google.com/assets/colab-badge.svg\" alt=\"Open In Colab\"/></a>"
      ]
    },
    {
      "cell_type": "code",
      "execution_count": 1,
      "metadata": {
        "colab": {
          "base_uri": "https://localhost:8080/"
        },
        "id": "KNksxgt8gFaG",
        "outputId": "4f8fb923-c121-40b3-a8d6-fbd6467caf1a"
      },
      "outputs": [
        {
          "output_type": "stream",
          "name": "stdout",
          "text": [
            "Name: Bob Age: 22 Occupation: Artist\n"
          ]
        }
      ],
      "source": [
        "data = \"John,30,Engineer\\nAlice,25,Designer\\nBob,22,Artist\"\n",
        "lines = data.split(\"\\n\")\n",
        "for line in lines:\n",
        "  fields = line.split(\",\")\n",
        "print(\"Name:\", fields[0], \"Age:\", fields[1], \"Occupation:\", fields[2])"
      ]
    },
    {
      "cell_type": "code",
      "source": [
        "data = \"John,30,Engineer\\nAlice,25,Designer\\nBob,22,Artist\"\n",
        "lines = data.split(\"\\n\")\n",
        "\n",
        "for line in lines:\n",
        "  fields = line.split(\",\")\n",
        "  print(\"Name:\", fields[0], \"Age:\", fields[1], \"Occupation:\", fields[2])"
      ],
      "metadata": {
        "colab": {
          "base_uri": "https://localhost:8080/"
        },
        "id": "ZDnVKc3HgI6d",
        "outputId": "03aa82bb-9c9d-4f05-9c8e-e1df425c7486"
      },
      "execution_count": 2,
      "outputs": [
        {
          "output_type": "stream",
          "name": "stdout",
          "text": [
            "Name: John Age: 30 Occupation: Engineer\n",
            "Name: Alice Age: 25 Occupation: Designer\n",
            "Name: Bob Age: 22 Occupation: Artist\n"
          ]
        }
      ]
    },
    {
      "cell_type": "code",
      "source": [
        "words = ['Hello', 'world', 'this', 'is', 'a', 'test']\n",
        "sentence = ' '.join(words)\n",
        "print(sentence)"
      ],
      "metadata": {
        "colab": {
          "base_uri": "https://localhost:8080/"
        },
        "id": "W9iHyemygKKF",
        "outputId": "d4886be5-5eaa-4ff9-8c3b-10e9f18d488d"
      },
      "execution_count": 3,
      "outputs": [
        {
          "output_type": "stream",
          "name": "stdout",
          "text": [
            "Hello world this is a test\n"
          ]
        }
      ]
    },
    {
      "cell_type": "code",
      "source": [
        "a = input()\n",
        "a_1 = a.split(' ')\n",
        "print(a_1) #print(객체.split(''))\n",
        "\n",
        "b='-'.join(a_1)\n",
        "print(b)"
      ],
      "metadata": {
        "colab": {
          "base_uri": "https://localhost:8080/"
        },
        "id": "CHSaV3xUgLXl",
        "outputId": "172732ae-436e-488f-c869-058a2a5a92c4"
      },
      "execution_count": 4,
      "outputs": [
        {
          "output_type": "stream",
          "name": "stdout",
          "text": [
            "Geeks for Geeks\n",
            "['Geeks', 'for', 'Geeks']\n",
            "Geeks-for-Geeks\n"
          ]
        }
      ]
    },
    {
      "cell_type": "code",
      "source": [
        "squares = [x**2 for x in range(5) if x%2 == 0]\n",
        "print(squares)"
      ],
      "metadata": {
        "colab": {
          "base_uri": "https://localhost:8080/"
        },
        "id": "aAKiltBwgMmm",
        "outputId": "182b1613-9566-4d27-9e9f-91ac7f23a9fc"
      },
      "execution_count": 5,
      "outputs": [
        {
          "output_type": "stream",
          "name": "stdout",
          "text": [
            "[0, 4, 16]\n"
          ]
        }
      ]
    },
    {
      "cell_type": "code",
      "source": [
        "#1부터 20까지 3의 배수만 제곱하기\n",
        "squares = [x**2 for x in range(1,21) if x%3 ==0]\n",
        "print(squares)\n",
        "\n",
        "squares2 = [x**2 for x in range(3,21,3)]\n",
        "print(squares2)"
      ],
      "metadata": {
        "colab": {
          "base_uri": "https://localhost:8080/"
        },
        "id": "G_TgpAM7gTg9",
        "outputId": "fc4f188e-ff45-41a0-c9f0-4990dddda8be"
      },
      "execution_count": 6,
      "outputs": [
        {
          "output_type": "stream",
          "name": "stdout",
          "text": [
            "[9, 36, 81, 144, 225, 324]\n",
            "[9, 36, 81, 144, 225, 324]\n"
          ]
        }
      ]
    },
    {
      "cell_type": "code",
      "source": [
        "a =[1,2,3,4,5]\n",
        "sq = [i**2 for i in a]\n",
        "print(sq)"
      ],
      "metadata": {
        "colab": {
          "base_uri": "https://localhost:8080/"
        },
        "id": "IHNjqXwJgVt0",
        "outputId": "121ed78b-a2e6-49e7-f075-4e667084dcae"
      },
      "execution_count": 7,
      "outputs": [
        {
          "output_type": "stream",
          "name": "stdout",
          "text": [
            "[1, 4, 9, 16, 25]\n"
          ]
        }
      ]
    },
    {
      "cell_type": "code",
      "source": [
        "inp=['Seoul','New York', 'London', 'Shanghai', 'Paris', 'Tokyo']\n",
        "scity=[i for i in inp if i[0]=='S']  #scity=[a for i in inp if i[0]=='S'] 결과값 [[0,1,2,3,4],[0,1,2,3,4]]\n",
        "print(scity)"
      ],
      "metadata": {
        "colab": {
          "base_uri": "https://localhost:8080/"
        },
        "id": "3TR9UxuJgX69",
        "outputId": "01c024a6-db49-41a0-a9c9-c80075b76c86"
      },
      "execution_count": 8,
      "outputs": [
        {
          "output_type": "stream",
          "name": "stdout",
          "text": [
            "['Seoul', 'Shanghai']\n"
          ]
        }
      ]
    },
    {
      "cell_type": "code",
      "source": [
        "fruits = ['apple', 'banana', 'cherry']\n",
        "for index, fruit in enumerate(fruits):\n",
        "  print(index, fruit)"
      ],
      "metadata": {
        "colab": {
          "base_uri": "https://localhost:8080/"
        },
        "id": "zgXFNLJ3gZj1",
        "outputId": "e469a263-c17b-4647-e8f1-a0119a61e3f6"
      },
      "execution_count": 9,
      "outputs": [
        {
          "output_type": "stream",
          "name": "stdout",
          "text": [
            "0 apple\n",
            "1 banana\n",
            "2 cherry\n"
          ]
        }
      ]
    },
    {
      "cell_type": "code",
      "source": [
        "fruits = ['a','b','c']\n",
        "for index, fruit in  enumerate(fruits) :\n",
        "  print(f'fruit{index} name is {fruit}')\n",
        "\n",
        "#for로도 작성해보기\n",
        "#for a in range(len(fruits))"
      ],
      "metadata": {
        "colab": {
          "base_uri": "https://localhost:8080/"
        },
        "id": "fNBYz05_ga9k",
        "outputId": "13656a22-583c-4861-dbf1-3b49f7b446c7"
      },
      "execution_count": 12,
      "outputs": [
        {
          "output_type": "stream",
          "name": "stdout",
          "text": [
            "fruit0 name is a\n",
            "fruit1 name is b\n",
            "fruit2 name is c\n"
          ]
        }
      ]
    },
    {
      "cell_type": "code",
      "source": [
        "names = ['John', 'Jane', 'Doe']\n",
        "ages = [25, 30, 35]\n",
        "a = zip(names, ages)\n",
        "for name, age in a:\n",
        "  print(f\"{name} is {age} years old.\")\n",
        "b=dict(zip(names,ages))\n",
        "#b=dict(a(names,ages))\n",
        "print(b)\n",
        "print(a)"
      ],
      "metadata": {
        "colab": {
          "base_uri": "https://localhost:8080/"
        },
        "id": "uiF99THogcW9",
        "outputId": "1b2fc7aa-d592-4386-daca-9e02f12eb68f"
      },
      "execution_count": 11,
      "outputs": [
        {
          "output_type": "stream",
          "name": "stdout",
          "text": [
            "John is 25 years old.\n",
            "Jane is 30 years old.\n",
            "Doe is 35 years old.\n",
            "{'John': 25, 'Jane': 30, 'Doe': 35}\n",
            "<zip object at 0x7ed046419a00>\n"
          ]
        }
      ]
    },
    {
      "cell_type": "code",
      "source": [
        "# 직접해보기\n",
        "list1 = [1, 2, 3]\n",
        "list2 = [4, 5, 6]\n",
        "list3 = [7, 8, 9]\n",
        "\n",
        "zip(list1,list2,list3)"
      ],
      "metadata": {
        "colab": {
          "base_uri": "https://localhost:8080/"
        },
        "id": "m8xEEwPigdsd",
        "outputId": "7ef400f9-c0c6-4ba0-ccfc-a8e5f17db48f"
      },
      "execution_count": 13,
      "outputs": [
        {
          "output_type": "execute_result",
          "data": {
            "text/plain": [
              "<zip at 0x7ed0464334c0>"
            ]
          },
          "metadata": {},
          "execution_count": 13
        }
      ]
    },
    {
      "cell_type": "code",
      "source": [
        "name = [ \"M\", \"N\", \"S\", \"A\" ]\n",
        "roll_no = [ 4, 1, 3, 2 ]\n",
        "a=[]\n",
        "for n, r in zip(name,roll_no):\n",
        "  a.append((n,r))\n",
        "print(a)\n",
        "\n",
        "names = ['M', 'R', 'C']\n",
        "ages = [24, 50, 18]\n",
        ""
      ],
      "metadata": {
        "colab": {
          "base_uri": "https://localhost:8080/"
        },
        "id": "DEHUSi5wgxT8",
        "outputId": "bd9470b8-3f5b-4226-8173-1fe3c2dff7cf"
      },
      "execution_count": 14,
      "outputs": [
        {
          "output_type": "stream",
          "name": "stdout",
          "text": [
            "[('M', 4), ('N', 1), ('S', 3), ('A', 2)]\n"
          ]
        }
      ]
    },
    {
      "cell_type": "code",
      "source": [
        "def add(x,y):\n",
        "  return x+y\n",
        "\n",
        "print (add(7,8))\n",
        "\n",
        "ssum= lambda a,b: a+b\n",
        "print(ssum(5,4))"
      ],
      "metadata": {
        "colab": {
          "base_uri": "https://localhost:8080/"
        },
        "id": "x_mA0X9Zgx38",
        "outputId": "83331a65-30cc-4693-9c20-206fb01dff92"
      },
      "execution_count": 15,
      "outputs": [
        {
          "output_type": "stream",
          "name": "stdout",
          "text": [
            "15\n",
            "9\n"
          ]
        }
      ]
    },
    {
      "cell_type": "code",
      "source": [],
      "metadata": {
        "id": "sLKfDqi3gy8E"
      },
      "execution_count": null,
      "outputs": []
    }
  ]
}